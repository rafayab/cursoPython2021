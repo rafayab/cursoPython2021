{
 "cells": [
  {
   "cell_type": "markdown",
   "id": "25acd0fd",
   "metadata": {},
   "source": [
    "# Titulo cuaderno"
   ]
  },
  {
   "cell_type": "code",
   "execution_count": 1,
   "id": "46972cf6",
   "metadata": {},
   "outputs": [
    {
     "name": "stdout",
     "output_type": "stream",
     "text": [
      " El volumen de la unidad D es Datos\n",
      " El n£mero de serie del volumen es: FAB6-8BC3\n",
      "\n",
      " Directorio de D:\\Curso_Python\\Codigo\\cursoPython2021\\Clase1\n",
      "\n",
      "30/11/2021  09:47    <DIR>          .\n",
      "30/11/2021  09:47    <DIR>          ..\n",
      "30/11/2021  09:47    <DIR>          .ipynb_checkpoints\n",
      "29/11/2021  13:07    <DIR>          build\n",
      "29/11/2021  13:08    <DIR>          dist\n",
      "29/11/2021  12:11                82 hola.py\n",
      "29/11/2021  13:07             1.034 hola.spec\n",
      "30/11/2021  09:47                72 Untitled.ipynb\n",
      "30/11/2021  09:47                 0 untitled.txt\n",
      "29/11/2021  13:08    <DIR>          __pycache__\n",
      "               4 archivos          1.188 bytes\n",
      "               6 dirs  338.927.091.712 bytes libres\n"
     ]
    }
   ],
   "source": [
    "!dir"
   ]
  },
  {
   "cell_type": "code",
   "execution_count": 2,
   "id": "2f79edea",
   "metadata": {},
   "outputs": [
    {
     "name": "stdout",
     "output_type": "stream",
     "text": [
      " El volumen de la unidad D es Datos\n",
      " El n£mero de serie del volumen es: FAB6-8BC3\n",
      "\n",
      " Directorio de D:\\Curso_Python\\Codigo\\cursoPython2021\\Clase1\n",
      "\n",
      "30/11/2021  09:47    <DIR>          .\n",
      "30/11/2021  09:47    <DIR>          ..\n",
      "30/11/2021  09:47    <DIR>          .ipynb_checkpoints\n",
      "29/11/2021  13:08    <DIR>          __pycache__\n",
      "29/11/2021  13:07    <DIR>          build\n",
      "29/11/2021  13:08    <DIR>          dist\n",
      "29/11/2021  12:11                82 hola.py\n",
      "29/11/2021  13:07             1.034 hola.spec\n",
      "30/11/2021  09:47                72 Untitled.ipynb\n",
      "30/11/2021  09:47                 0 untitled.txt\n",
      "               4 archivos          1.188 bytes\n",
      "               6 dirs  338.927.091.712 bytes libres\n"
     ]
    }
   ],
   "source": [
    "ls"
   ]
  },
  {
   "cell_type": "code",
   "execution_count": 4,
   "id": "a9d011ad",
   "metadata": {},
   "outputs": [
    {
     "name": "stdout",
     "output_type": "stream",
     "text": [
      " El volumen de la unidad D es Datos\n",
      " El n£mero de serie del volumen es: FAB6-8BC3\n",
      "\n",
      " Directorio de D:\\Curso_Python\\Codigo\\cursoPython2021\\Clase1\n",
      "\n",
      "30/11/2021  09:49    <DIR>          .\n",
      "30/11/2021  09:49    <DIR>          ..\n",
      "30/11/2021  09:47    <DIR>          .ipynb_checkpoints\n",
      "29/11/2021  13:07    <DIR>          build\n",
      "29/11/2021  13:08    <DIR>          dist\n",
      "29/11/2021  12:11                82 hola.py\n",
      "29/11/2021  13:07             1.034 hola.spec\n",
      "30/11/2021  09:49             2.839 Untitled.ipynb\n",
      "30/11/2021  09:47                 0 untitled.txt\n",
      "29/11/2021  13:08    <DIR>          __pycache__\n",
      "               4 archivos          3.955 bytes\n",
      "               6 dirs  338.927.087.616 bytes libres\n"
     ]
    }
   ],
   "source": [
    "!dir"
   ]
  },
  {
   "cell_type": "markdown",
   "id": "e5c7b2b0",
   "metadata": {},
   "source": [
    "- Escribir texto"
   ]
  },
  {
   "cell_type": "code",
   "execution_count": 8,
   "id": "2dc48141",
   "metadata": {},
   "outputs": [
    {
     "name": "stdout",
     "output_type": "stream",
     "text": [
      " El volumen de la unidad D es Datos\n",
      " El n£mero de serie del volumen es: FAB6-8BC3\n",
      "\n",
      " Directorio de D:\\Curso_Python\\Codigo\\cursoPython2021\\Clase1\n",
      "\n",
      "30/11/2021  09:55    <DIR>          .\n",
      "30/11/2021  09:55    <DIR>          ..\n",
      "30/11/2021  09:47    <DIR>          .ipynb_checkpoints\n",
      "29/11/2021  13:08    <DIR>          __pycache__\n",
      "29/11/2021  13:07    <DIR>          build\n",
      "29/11/2021  13:08    <DIR>          dist\n",
      "29/11/2021  12:11                82 hola.py\n",
      "29/11/2021  13:07             1.034 hola.spec\n",
      "30/11/2021  09:55             4.206 Untitled.ipynb\n",
      "30/11/2021  09:47                 0 untitled.txt\n",
      "               4 archivos          5.322 bytes\n",
      "               6 dirs  338.927.083.520 bytes libres\n"
     ]
    }
   ],
   "source": [
    "ls"
   ]
  },
  {
   "cell_type": "code",
   "execution_count": null,
   "id": "20d8922d",
   "metadata": {},
   "outputs": [],
   "source": []
  }
 ],
 "metadata": {
  "kernelspec": {
   "display_name": "Python 3 (ipykernel)",
   "language": "python",
   "name": "python3"
  },
  "language_info": {
   "codemirror_mode": {
    "name": "ipython",
    "version": 3
   },
   "file_extension": ".py",
   "mimetype": "text/x-python",
   "name": "python",
   "nbconvert_exporter": "python",
   "pygments_lexer": "ipython3",
   "version": "3.10.0"
  }
 },
 "nbformat": 4,
 "nbformat_minor": 5
}
